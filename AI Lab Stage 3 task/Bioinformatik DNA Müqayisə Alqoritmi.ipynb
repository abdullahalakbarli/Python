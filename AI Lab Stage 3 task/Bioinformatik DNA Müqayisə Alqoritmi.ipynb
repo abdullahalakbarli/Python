{
 "cells": [
  {
   "cell_type": "markdown",
   "id": "1bebd1ee",
   "metadata": {},
   "source": [
    "### Comparison of DNA sequences sadə kod"
   ]
  },
  {
   "cell_type": "code",
   "execution_count": 3,
   "id": "bee34c32",
   "metadata": {
    "scrolled": true
   },
   "outputs": [
    {
     "name": "stdout",
     "output_type": "stream",
     "text": [
      "Seq1: ATGCGTACGTTAGC\n",
      "      |||||| |||||||\n",
      "Seq2: ATGCGTTCGTTAGC\n",
      "Hamming Məsafəsi: 1\n"
     ]
    }
   ],
   "source": [
    "def hamming_distance(seq1, seq2):\n",
    "    if len(seq1) != len(seq2):\n",
    "        raise ValueError(\"DNA ardıcıllıqları eyni uzunluqda olmalıdır.\")\n",
    "    \n",
    "    distance = sum(1 for a, b in zip(seq1, seq2) if a != b)\n",
    "    \n",
    "    return distance\n",
    "\n",
    "def align_sequences(seq1, seq2):\n",
    "    aligned_str = \"\"\n",
    "    for a, b in zip(seq1, seq2):\n",
    "        if a == b:\n",
    "            aligned_str += \"|\"\n",
    "        else:\n",
    "            aligned_str += \" \"\n",
    "    \n",
    "    return f\"Seq1: {seq1}\\n      {aligned_str}\\nSeq2: {seq2}\"\n",
    "\n",
    "seq_A = \"ATGCGTACGTTAGC\"\n",
    "seq_B = \"ATGCGTTCGTTAGC\"\n",
    "\n",
    "distance = hamming_distance(seq_A, seq_B)\n",
    "\n",
    "print(align_sequences(seq_A, seq_B))\n",
    "print(f\"Hamming Məsafəsi: {distance}\")"
   ]
  },
  {
   "cell_type": "markdown",
   "id": "4c789348",
   "metadata": {},
   "source": [
    "### DNA Müqayisə Oxşarlıq Faizi "
   ]
  },
  {
   "cell_type": "code",
   "execution_count": 5,
   "id": "bdf7dafd",
   "metadata": {},
   "outputs": [
    {
     "name": "stdout",
     "output_type": "stream",
     "text": [
      "Seq1: ATGCGTA-CGTTAGC\n",
      "      ||||||  |||||||\n",
      "Seq2: ATGCGT-TCGTTAGC\n",
      "Oxşarlıq Faizi: 92.86%\n"
     ]
    }
   ],
   "source": [
    "from difflib import ndiff\n",
    "\n",
    "def sequence_alignment(seq1, seq2):\n",
    "    diff = list(ndiff(seq1, seq2))\n",
    "    seq1_aligned, seq2_aligned, markers = \"\", \"\", \"\"\n",
    "    \n",
    "    for item in diff:\n",
    "        if item.startswith(\" \"):\n",
    "            seq1_aligned += item[2]\n",
    "            seq2_aligned += item[2]\n",
    "            markers += \"|\"\n",
    "        elif item.startswith(\"-\"):\n",
    "            seq1_aligned += item[2]\n",
    "            seq2_aligned += \"-\"\n",
    "            markers += \" \"\n",
    "        elif item.startswith(\"+\"):\n",
    "            seq1_aligned += \"-\"\n",
    "            seq2_aligned += item[2]\n",
    "            markers += \" \"\n",
    "    \n",
    "    return f\"Seq1: {seq1_aligned}\\n      {markers}\\nSeq2: {seq2_aligned}\"\n",
    "\n",
    "def similarity_percentage(seq1, seq2):\n",
    "    matches = sum(1 for a, b in zip(seq1, seq2) if a == b)\n",
    "    return (matches / max(len(seq1), len(seq2))) * 100\n",
    "\n",
    "seq_A = \"ATGCGTACGTTAGC\"\n",
    "seq_B = \"ATGCGTTCGTTAGC\"\n",
    "\n",
    "alignment_result = sequence_alignment(seq_A, seq_B)\n",
    "\n",
    "similarity = similarity_percentage(seq_A, seq_B)\n",
    "\n",
    "print(alignment_result)\n",
    "print(f\"Oxşarlıq Faizi: {similarity:.2f}%\")"
   ]
  },
  {
   "cell_type": "markdown",
   "id": "745d363d",
   "metadata": {},
   "source": [
    "### Levenshtein Distance ilə DNA Müqayisə Alqoritmi"
   ]
  },
  {
   "cell_type": "code",
   "execution_count": 11,
   "id": "6417adb0",
   "metadata": {},
   "outputs": [
    {
     "name": "stdout",
     "output_type": "stream",
     "text": [
      "Seq1: ATGCGTACGTTAGC\n",
      "      |||||| |||||||\n",
      "Seq2: ATGCGTTCGTTAGC\n",
      "Levenshtein Məsafəsi: 1\n",
      "Oxşarlıq Faizi: 92.86%\n"
     ]
    }
   ],
   "source": [
    "import Levenshtein\n",
    "\n",
    "def sequence_alignment(seq1, seq2):\n",
    "    seq1_aligned, seq2_aligned, markers = \"\", \"\", \"\"\n",
    "    \n",
    "    for i in range(min(len(seq1), len(seq2))):\n",
    "        if seq1[i] == seq2[i]:\n",
    "            seq1_aligned += seq1[i]\n",
    "            seq2_aligned += seq2[i]\n",
    "            markers += \"|\"\n",
    "        else:\n",
    "            seq1_aligned += seq1[i]\n",
    "            seq2_aligned += seq2[i]\n",
    "            markers += \" \"\n",
    "    \n",
    "    return f\"Seq1: {seq1_aligned}\\n      {markers}\\nSeq2: {seq2_aligned}\"\n",
    "\n",
    "def levenshtein_distance(seq1, seq2):\n",
    "    return Levenshtein.distance(seq1, seq2)\n",
    "\n",
    "def similarity_percentage(seq1, seq2):\n",
    "    max_length = max(len(seq1), len(seq2))\n",
    "    lev_distance = levenshtein_distance(seq1, seq2)\n",
    "    return (1 - lev_distance / max_length) * 100\n",
    "\n",
    "seq_A = \"ATGCGTACGTTAGC\"\n",
    "seq_B = \"ATGCGTTCGTTAGC\"\n",
    "\n",
    "alignment_result = sequence_alignment(seq_A, seq_B)\n",
    "\n",
    "lev_distance = levenshtein_distance(seq_A, seq_B)\n",
    "\n",
    "similarity = similarity_percentage(seq_A, seq_B)\n",
    "\n",
    "print(alignment_result)\n",
    "print(f\"Levenshtein Məsafəsi: {lev_distance}\")\n",
    "print(f\"Oxşarlıq Faizi: {similarity:.2f}%\")"
   ]
  }
 ],
 "metadata": {
  "kernelspec": {
   "display_name": "Python 3 (ipykernel)",
   "language": "python",
   "name": "python3"
  },
  "language_info": {
   "codemirror_mode": {
    "name": "ipython",
    "version": 3
   },
   "file_extension": ".py",
   "mimetype": "text/x-python",
   "name": "python",
   "nbconvert_exporter": "python",
   "pygments_lexer": "ipython3",
   "version": "3.12.3"
  }
 },
 "nbformat": 4,
 "nbformat_minor": 5
}
