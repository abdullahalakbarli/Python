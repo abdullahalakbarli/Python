{
 "cells": [
  {
   "cell_type": "markdown",
   "id": "9bc3be30",
   "metadata": {},
   "source": [
    "### Sadə Fuzzy Search Alqoritmi"
   ]
  },
  {
   "cell_type": "code",
   "execution_count": 7,
   "id": "c556c722",
   "metadata": {},
   "outputs": [
    {
     "name": "stdout",
     "output_type": "stream",
     "text": [
      "Oxşar sözlər:\n",
      "kitab - Oxşarlıq: 0.80\n"
     ]
    }
   ],
   "source": [
    "import difflib\n",
    "import Levenshtein\n",
    "\n",
    "def fuzzy_search(query, word_list, threshold=0.5):\n",
    "    \n",
    "    matches = []\n",
    "    for word in word_list:\n",
    "        similarity = Levenshtein.ratio(query.lower(), word.lower())\n",
    "\n",
    "        if similarity >= threshold:\n",
    "            matches.append((word, similarity))\n",
    "\n",
    "    matches.sort(key=lambda x: x[1], reverse=True)\n",
    "\n",
    "    return matches\n",
    "\n",
    "\n",
    "word_list = [\"kompüter\", \"kompyuter\", \"telefon\", \"kitab\", \"televizor\", \"kamera\"]\n",
    "\n",
    "query = \"kitap\"\n",
    "result = fuzzy_search(query, word_list)\n",
    "\n",
    "print(\"Oxşar sözlər:\")\n",
    "for word, score in result:\n",
    "    print(f\"{word} - Oxşarlıq: {score:.2f}\")\n"
   ]
  },
  {
   "cell_type": "markdown",
   "id": "e1e4d8fe",
   "metadata": {},
   "source": [
    "### Fuzzy Search"
   ]
  },
  {
   "cell_type": "code",
   "execution_count": 14,
   "id": "af3f77dc",
   "metadata": {
    "scrolled": true
   },
   "outputs": [
    {
     "name": "stdout",
     "output_type": "stream",
     "text": [
      "Enter a word to search: təhsil\n",
      "\n",
      "Similar words:\n",
      "təhsil - Similarity: 1.00\n",
      "təhsilcə - Similarity: 0.86\n",
      "təhsilli - Similarity: 0.86\n",
      "təfsil - Similarity: 0.83\n",
      "təhlil - Similarity: 0.83\n",
      "təhsin - Similarity: 0.83\n",
      "təhvil - Similarity: 0.83\n",
      "təmsil - Similarity: 0.83\n",
      "əsil - Similarity: 0.80\n",
      "təhsillən - Similarity: 0.80\n",
      "təhsillik - Similarity: 0.80\n",
      "təhsilsiz - Similarity: 0.80\n",
      "əlhasil - Similarity: 0.77\n",
      "təhlili - Similarity: 0.77\n",
      "təsirli - Similarity: 0.77\n",
      "aztəhsilli - Similarity: 0.75\n",
      "teletəhsil - Similarity: 0.75\n",
      "ümumtəhsil - Similarity: 0.75\n",
      "əskil - Similarity: 0.73\n",
      "fəsil - Similarity: 0.73\n",
      "hasil - Similarity: 0.73\n",
      "kəsil - Similarity: 0.73\n",
      "nəsil - Similarity: 0.73\n",
      "rəhil - Similarity: 0.73\n",
      "təbil - Similarity: 0.73\n",
      "təcil - Similarity: 0.73\n",
      "təpil - Similarity: 0.73\n",
      "təpsi - Similarity: 0.73\n",
      "təsir - Similarity: 0.73\n",
      "təsis - Similarity: 0.73\n",
      "tətil - Similarity: 0.73\n",
      "xəsil - Similarity: 0.73\n",
      "müttəsil - Similarity: 0.71\n",
      "təfsilat - Similarity: 0.71\n",
      "təfsilən - Similarity: 0.71\n",
      "təfsilli - Similarity: 0.71\n",
      "təhərsiz - Similarity: 0.71\n",
      "təhkimli - Similarity: 0.71\n",
      "təhqirli - Similarity: 0.71\n",
      "təhvilat - Similarity: 0.71\n",
      "təhvilçi - Similarity: 0.71\n",
      "təmsilat - Similarity: 0.71\n",
      "təmsilçi - Similarity: 0.71\n",
      "təqsirli - Similarity: 0.71\n",
      "təsdiqlə - Similarity: 0.71\n",
      "təsirlən - Similarity: 0.71\n",
      "təsirlik - Similarity: 0.71\n",
      "təsvirli - Similarity: 0.71\n",
      "alitəhsilli - Similarity: 0.71\n",
      "özünətəhsil - Similarity: 0.71\n"
     ]
    }
   ],
   "source": [
    "import difflib\n",
    "import Levenshtein\n",
    "\n",
    "def load_words_from_file(filename):\n",
    "    try:\n",
    "        with open(filename, \"r\", encoding=\"utf-8\") as file:\n",
    "            words = [line.strip() for line in file if line.strip()]\n",
    "        return words\n",
    "    except FileNotFoundError:\n",
    "        print(f\"Error: The file '{filename}' was not found.\")\n",
    "        return []\n",
    "\n",
    "def fuzzy_search(query, word_list, threshold=0.7):\n",
    "    matches = []\n",
    "    \n",
    "    for word in word_list:\n",
    "        similarity = Levenshtein.ratio(query.lower(), word.lower())\n",
    "        if similarity >= threshold:\n",
    "            matches.append((word, similarity))\n",
    "    \n",
    "    matches.sort(key=lambda x: x[1], reverse=True)\n",
    "    return matches\n",
    "\n",
    "filename = \"words.txt\"\n",
    "word_list = load_words_from_file(filename)\n",
    "\n",
    "if word_list:\n",
    "    query = input(\"Enter a word to search: \")\n",
    "    result = fuzzy_search(query, word_list)\n",
    "\n",
    "    print(\"\\nSimilar words:\")\n",
    "    for word, score in result:\n",
    "        print(f\"{word} - Similarity: {score:.2f}\")"
   ]
  },
  {
   "cell_type": "markdown",
   "id": "62819e89",
   "metadata": {},
   "source": [
    "### Soundex və Metaphone ilə Fonetika əsaslı Fuzzy Search"
   ]
  },
  {
   "cell_type": "code",
   "execution_count": 24,
   "id": "d20a70d2",
   "metadata": {
    "scrolled": true
   },
   "outputs": [
    {
     "name": "stdout",
     "output_type": "stream",
     "text": [
      "Axtarmaq istədiyiniz sözü daxil edin: fateh\n",
      "\n",
      "Fonetik olaraq oxşar sözlər:\n",
      "- fata\n",
      "- fateh\n",
      "- fatihə\n",
      "- fayda\n",
      "- feod\n",
      "- fit\n",
      "- fot\n",
      "- foto\n",
      "- fut\n",
      "- vadi\n",
      "- vatt\n",
      "- veda\n",
      "- veto\n",
      "- vida\n",
      "- video\n"
     ]
    }
   ],
   "source": [
    "from metaphone import doublemetaphone\n",
    "\n",
    "def load_words_from_file(filename):\n",
    "    try:\n",
    "        with open(filename, \"r\", encoding=\"utf-8\") as file:\n",
    "            words = [line.strip() for line in file if line.strip()]\n",
    "        return words\n",
    "    except FileNotFoundError:\n",
    "        print(f\"Xəta: '{filename}' faylı tapılmadı.\")\n",
    "        return []\n",
    "\n",
    "def phonetic_fuzzy_search(query, word_list):\n",
    "    query_code = doublemetaphone(query)[0]\n",
    "    matches = []\n",
    "    \n",
    "    for word in word_list:\n",
    "        word_code = doublemetaphone(word)[0]\n",
    "        if query_code == word_code:\n",
    "            matches.append(word)\n",
    "    \n",
    "    return matches\n",
    "\n",
    "filename = \"words.txt\"\n",
    "word_list = load_words_from_file(filename)\n",
    "\n",
    "if word_list:\n",
    "    query = input(\"Axtarmaq istədiyiniz sözü daxil edin: \")\n",
    "    result = phonetic_fuzzy_search(query, word_list)\n",
    "\n",
    "    print(\"\\nFonetik olaraq oxşar sözlər:\")\n",
    "    if result:\n",
    "        for word in result:\n",
    "            print(f\"- {word}\")\n",
    "    else:\n",
    "        print(\"Oxşar söz tapılmadı.\")"
   ]
  },
  {
   "cell_type": "markdown",
   "id": "95f5d222",
   "metadata": {},
   "source": [
    "### AI dəstəkli Fuzzy Search (BERT Modeli ilə)"
   ]
  },
  {
   "cell_type": "markdown",
   "id": "52c7bcf9",
   "metadata": {},
   "source": [
    "Daxil edilən datadakı sözlə məna uyğunluğu olan sözlərin print edilməsi"
   ]
  },
  {
   "cell_type": "code",
   "execution_count": 30,
   "id": "201b19ac",
   "metadata": {},
   "outputs": [
    {
     "name": "stdout",
     "output_type": "stream",
     "text": [
      "Axtarmaq istədiyiniz sözü daxil edin: kitab\n",
      "\n",
      "Mənaya görə oxşar sözlər (0.7-dən yüksək oxşarlıq ilə):\n",
      "- kitab (Oxşarlıq: 1.00)\n",
      "- kitabça (Oxşarlıq: 0.86)\n",
      "- kitabdar (Oxşarlıq: 0.84)\n",
      "- kitabsatan (Oxşarlıq: 0.82)\n",
      "- kitabə (Oxşarlıq: 0.79)\n",
      "- kitabxana (Oxşarlıq: 0.78)\n",
      "- kitabət (Oxşarlıq: 0.77)\n",
      "- kitabşünas (Oxşarlıq: 0.76)\n",
      "- kitab-albom (Oxşarlıq: 0.74)\n",
      "- kitabfüruş (Oxşarlıq: 0.73)\n",
      "- kitabçı (Oxşarlıq: 0.72)\n",
      "- kitabsevər (Oxşarlıq: 0.71)\n",
      "- kitabsevən (Oxşarlıq: 0.71)\n"
     ]
    }
   ],
   "source": [
    "from sentence_transformers import SentenceTransformer\n",
    "from sklearn.metrics.pairwise import cosine_similarity\n",
    "import numpy as np\n",
    "\n",
    "model = SentenceTransformer(\"paraphrase-MiniLM-L6-v2\")\n",
    "\n",
    "def load_words_from_file(filename):\n",
    "    try:\n",
    "        with open(filename, \"r\", encoding=\"utf-8\") as file:\n",
    "            words = [line.strip() for line in file if line.strip()]\n",
    "        return words\n",
    "    except FileNotFoundError:\n",
    "        print(f\"Xəta: '{filename}' faylı tapılmadı.\")\n",
    "        return []\n",
    "\n",
    "def semantic_fuzzy_search(query, word_list, threshold=0.7):\n",
    "    query_vec = model.encode([query])\n",
    "    word_vecs = model.encode(word_list)\n",
    "    \n",
    "    similarities = cosine_similarity(query_vec, word_vecs)[0]\n",
    "\n",
    "    filtered_results = [(word_list[i], similarities[i]) for i in range(len(word_list)) if similarities[i] > threshold]\n",
    "    \n",
    "    filtered_results.sort(key=lambda x: x[1], reverse=True)\n",
    "    \n",
    "    return filtered_results\n",
    "\n",
    "filename = \"words.txt\"\n",
    "word_list = load_words_from_file(filename)\n",
    "\n",
    "if word_list:\n",
    "    query = input(\"Axtarmaq istədiyiniz sözü daxil edin: \")\n",
    "    result = semantic_fuzzy_search(query, word_list)\n",
    "\n",
    "    print(\"\\nMənaya görə oxşar sözlər (0.7-dən yüksək oxşarlıq ilə):\")\n",
    "    if result:\n",
    "        for word, score in result:\n",
    "            print(f\"- {word} (Oxşarlıq: {score:.2f})\")\n",
    "    else:\n",
    "        print(\"Oxşar söz tapılmadı.\")"
   ]
  }
 ],
 "metadata": {
  "kernelspec": {
   "display_name": "Python 3 (ipykernel)",
   "language": "python",
   "name": "python3"
  },
  "language_info": {
   "codemirror_mode": {
    "name": "ipython",
    "version": 3
   },
   "file_extension": ".py",
   "mimetype": "text/x-python",
   "name": "python",
   "nbconvert_exporter": "python",
   "pygments_lexer": "ipython3",
   "version": "3.12.3"
  }
 },
 "nbformat": 4,
 "nbformat_minor": 5
}
