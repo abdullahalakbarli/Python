{
 "cells": [
  {
   "cell_type": "markdown",
   "id": "58849c8c",
   "metadata": {},
   "source": [
    "### Jaccard and Cosine Similarity"
   ]
  },
  {
   "cell_type": "code",
   "execution_count": 6,
   "id": "4949389f",
   "metadata": {
    "scrolled": true
   },
   "outputs": [
    {
     "name": "stdout",
     "output_type": "stream",
     "text": [
      "Enter text: The Industrial Revolution was a transformative period that reshaped economies and societies worldwide. Beginning in the late 18th century, it marked a shift from agrarian economies to industrialized ones, characterized by mechanized production, urbanization, and technological innovation. Factories emerged as centers of mass production, leading to increased productivity but also challenging traditional labor structures. The rise of industries spurred economic growth, but it also brought social challenges, such as poor working conditions and income inequality. Ultimately, the Industrial Revolution laid the foundation for modern economic systems and technological advancements.\n",
      "\n",
      "Enter text: The Industrial Revolution was a significant turning point that transformed economies and societies. Starting in the late 1700s, it initiated a transition from agriculture-based economies to industrialized ones, introducing mechanized production and urban expansion. Factories became key hubs of mass production, boosting efficiency but also altering traditional labor patterns. While industrial growth stimulated economies, it also created social issues, including harsh working environments and wealth disparities. In the end, the Industrial Revolution played a crucial role in shaping contemporary economic models and technological progress.\n",
      "\n",
      "\n",
      "Jaccard Similarity: 0.26\n",
      "Cosine Similarity: 0.52\n",
      "No Plagiarism Detected\n"
     ]
    }
   ],
   "source": [
    "import numpy as np\n",
    "from sklearn.feature_extraction.text import TfidfVectorizer\n",
    "from sklearn.metrics.pairwise import cosine_similarity\n",
    "\n",
    "def jaccard_similarity(text1, text2):\n",
    "    words_text1 = set(text1.lower().split())\n",
    "    words_text2 = set(text2.lower().split())\n",
    "    intersection = words_text1.intersection(words_text2)\n",
    "    union = words_text1.union(words_text2)\n",
    "    return len(intersection) / len(union)\n",
    "\n",
    "def cosine_similarity_tfidf(text1, text2):\n",
    "    vectorizer = TfidfVectorizer()\n",
    "    tfidf_matrix = vectorizer.fit_transform([text1, text2])\n",
    "    similarity = cosine_similarity(tfidf_matrix[0], tfidf_matrix[1])\n",
    "    return similarity[0][0]\n",
    "\n",
    "def detect_plagiarism(text1, text2, jaccard_threshold=0.5, cosine_threshold=0.7):\n",
    "    jaccard_sim = jaccard_similarity(text1, text2)\n",
    "    cosine_sim = cosine_similarity_tfidf(text1, text2)\n",
    "    \n",
    "    print(f\"\\n\\nJaccard Similarity: {jaccard_sim:.2f}\")\n",
    "    print(f\"Cosine Similarity: {cosine_sim:.2f}\")\n",
    "    \n",
    "    if jaccard_sim > jaccard_threshold or cosine_sim > cosine_threshold:\n",
    "        return \"Plagiarism Detected\"\n",
    "    else:\n",
    "        return \"No Plagiarism Detected\"\n",
    "\n",
    "text1 = input(\"Enter text: \")\n",
    "text2 = input(\"\\nEnter text: \")\n",
    "\n",
    "result = detect_plagiarism(text1, text2)\n",
    "print(result)"
   ]
  },
  {
   "cell_type": "markdown",
   "id": "1b00513b",
   "metadata": {},
   "source": [
    "### Levenshtein and Cosine Similarity"
   ]
  },
  {
   "cell_type": "code",
   "execution_count": 10,
   "id": "fc397568",
   "metadata": {},
   "outputs": [
    {
     "name": "stdout",
     "output_type": "stream",
     "text": [
      "Enter text: Enter text: The Industrial Revolution was a significant turning point that transformed economies and societies. Starting in the late 1700s, it initiated a transition from agriculture-based economies to industrialized ones, introducing mechanized production and urban expansion. Factories became key hubs of mass production, boosting efficiency but also altering traditional labor patterns. While industrial growth stimulated economies, it also created social issues, including harsh working environments and wealth disparities. In the end, the Industrial Revolution played a crucial role in shaping contemporary economic models and technological progress.\n",
      "\n",
      "\n",
      "Enter text: Enter text: The Industrial Revolution was a significant turning point that transformed economies and societies. Starting in the late 1700s, it initiated a transition from agriculture-based economies to industrialized ones, introducing mechanized production and urban expansion. Factories became key hubs of mass production, boosting efficiency but also altering traditional labor patterns. While industrial growth stimulated economies, it also created social issues, including harsh working environments and wealth disparities. In the end, the Industrial Revolution played a crucial role in shaping contemporary economic models and technological progress.\n",
      "\n",
      "\n",
      "Levenshtein Similarity: 1.00\n",
      "Cosine Similarity: 1.00\n",
      "\n",
      "\n",
      "Plagiarism Detected\n"
     ]
    }
   ],
   "source": [
    "import difflib\n",
    "import numpy as np\n",
    "from sklearn.feature_extraction.text import CountVectorizer\n",
    "from sklearn.metrics.pairwise import cosine_similarity\n",
    "\n",
    "def levenshtein_similarity(text1, text2):\n",
    "    seq = difflib.SequenceMatcher(None, text1, text2)\n",
    "    return seq.ratio()\n",
    "\n",
    "def cosine_similarity_count(text1, text2):\n",
    "    vectorizer = CountVectorizer().fit_transform([text1, text2])\n",
    "    vectors = vectorizer.toarray()\n",
    "    similarity = cosine_similarity([vectors[0]], [vectors[1]])\n",
    "    return similarity[0][0]\n",
    "\n",
    "def detect_plagiarism(text1, text2, levenshtein_threshold=0.6, cosine_threshold=0.7):\n",
    "    lev_sim = levenshtein_similarity(text1, text2)\n",
    "    cosine_sim = cosine_similarity_count(text1, text2)\n",
    "    \n",
    "    print(f\"\\n\\nLevenshtein Similarity: {lev_sim:.2f}\")\n",
    "    print(f\"Cosine Similarity: {cosine_sim:.2f}\")\n",
    "    \n",
    "    if lev_sim > levenshtein_threshold or cosine_sim > cosine_threshold:\n",
    "        return \"\\n\\nPlagiarism Detected\"\n",
    "    else:\n",
    "        return \"\\n\\nNo Plagiarism Detected\"\n",
    "\n",
    "text1 = input(\"Enter text: \")\n",
    "text2 = input(\"\\n\\nEnter text: \")\n",
    "\n",
    "result = detect_plagiarism(text1, text2)\n",
    "print(result)"
   ]
  },
  {
   "cell_type": "markdown",
   "id": "a5f676cf",
   "metadata": {},
   "source": [
    "### Plagiarism and AI Generated Text Detector"
   ]
  },
  {
   "cell_type": "code",
   "execution_count": 19,
   "id": "c6d1f437",
   "metadata": {},
   "outputs": [
    {
     "name": "stdout",
     "output_type": "stream",
     "text": [
      "Enter text: \"Bu məqalə süni intellekt tərəfindən yazılmışdır.\"\n",
      "\n",
      "Enter text: \"Bu məqalə süni intellekt tərəfindən yazılmışdır.\"\n",
      "\n",
      "Max AI Similarity: 1.00\n",
      "AI-Generated Text Detected\n",
      "\n",
      "\n",
      "Levenshtein Similarity: 1.00\n",
      "Cosine Similarity: 1.00\n",
      "Plagiarism Detected\n"
     ]
    }
   ],
   "source": [
    "import difflib\n",
    "import numpy as np\n",
    "from sklearn.feature_extraction.text import CountVectorizer, TfidfVectorizer\n",
    "from sklearn.metrics.pairwise import cosine_similarity\n",
    "import openai\n",
    "\n",
    "def levenshtein_similarity(text1, text2):\n",
    "    seq = difflib.SequenceMatcher(None, text1, text2)\n",
    "    return seq.ratio()\n",
    "\n",
    "def cosine_similarity_tfidf(text1, text2):\n",
    "    vectorizer = TfidfVectorizer()\n",
    "    tfidf_matrix = vectorizer.fit_transform([text1, text2])\n",
    "    similarity = cosine_similarity(tfidf_matrix[0], tfidf_matrix[1])\n",
    "    return similarity[0][0]\n",
    "\n",
    "def detect_ai_generated_text(text, ai_threshold=0.6):\n",
    "    ai_samples = [\n",
    "        \"Bu məqalə süni intellekt tərəfindən yazılmışdır.\",\n",
    "        \"Bu, bir AI tərəfindən yaradılmış mətn nümunəsidir.\",\n",
    "        \"Süni intellekt əsaslı məzmun yaradılması.\" \n",
    "    ]\n",
    "    \n",
    "    similarities = [cosine_similarity_tfidf(text, sample) for sample in ai_samples]\n",
    "    max_similarity = max(similarities)\n",
    "    \n",
    "    print(f\"\\nMax AI Similarity: {max_similarity:.2f}\")\n",
    "    \n",
    "    if max_similarity > ai_threshold:\n",
    "        return \"AI-Generated Text Detected\"\n",
    "    else:\n",
    "        return \"Human-Written Text\"\n",
    "\n",
    "def detect_plagiarism(text1, text2, levenshtein_threshold=0.6, cosine_threshold=0.7):\n",
    "    lev_sim = levenshtein_similarity(text1, text2)\n",
    "    cosine_sim = cosine_similarity_tfidf(text1, text2)\n",
    "    \n",
    "    print(f\"\\n\\nLevenshtein Similarity: {lev_sim:.2f}\")\n",
    "    print(f\"Cosine Similarity: {cosine_sim:.2f}\")\n",
    "    \n",
    "    if lev_sim > levenshtein_threshold or cosine_sim > cosine_threshold:\n",
    "        return \"Plagiarism Detected\"\n",
    "    else:\n",
    "        return \"No Plagiarism Detected\"\n",
    "\n",
    "text1 = input(\"Enter text: \")\n",
    "text2 = input(\"\\nEnter text: \")\n",
    "\n",
    "authorship_result = detect_ai_generated_text(text1)\n",
    "print(authorship_result)\n",
    "\n",
    "plagiarism_result = detect_plagiarism(text1, text2)\n",
    "print(plagiarism_result)"
   ]
  }
 ],
 "metadata": {
  "kernelspec": {
   "display_name": "Python 3 (ipykernel)",
   "language": "python",
   "name": "python3"
  },
  "language_info": {
   "codemirror_mode": {
    "name": "ipython",
    "version": 3
   },
   "file_extension": ".py",
   "mimetype": "text/x-python",
   "name": "python",
   "nbconvert_exporter": "python",
   "pygments_lexer": "ipython3",
   "version": "3.12.3"
  }
 },
 "nbformat": 4,
 "nbformat_minor": 5
}
