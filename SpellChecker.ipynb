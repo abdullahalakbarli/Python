{
 "cells": [
  {
   "cell_type": "markdown",
   "id": "b926bffd",
   "metadata": {},
   "source": [
    "###  Pythonda Sadə Spellchecker Kodu"
   ]
  },
  {
   "cell_type": "code",
   "execution_count": 8,
   "id": "436737f1",
   "metadata": {},
   "outputs": [
    {
     "name": "stdout",
     "output_type": "stream",
     "text": [
      "Söz daxil edin: enthusiasit\n",
      "Söz: enthusiasit -> Düzgün versiyası: enthusiast\n"
     ]
    }
   ],
   "source": [
    "from spellchecker import SpellChecker\n",
    "\n",
    "spell = SpellChecker()\n",
    "\n",
    "misspelled = input(\"Söz daxil edin: \")\n",
    "\n",
    "corrected = spell.correction(misspelled)\n",
    "\n",
    "print(f\"Söz: {misspelled} -> Düzgün versiyası: {corrected}\")\n"
   ]
  },
  {
   "cell_type": "markdown",
   "id": "79fc7594",
   "metadata": {},
   "source": [
    "### Spellchecker (Sentence)"
   ]
  },
  {
   "cell_type": "code",
   "execution_count": 11,
   "id": "02d6679b",
   "metadata": {},
   "outputs": [
    {
     "name": "stdout",
     "output_type": "stream",
     "text": [
      "Cümlə daxil edin:Hellloo my namee ist Abdullah\n",
      "Original cümlə:  Hellloo my namee ist Abdullah\n",
      "Düzəldilmiş version cümlə:  hello my name is Abdullah\n"
     ]
    }
   ],
   "source": [
    "from spellchecker import SpellChecker\n",
    "\n",
    "spell = SpellChecker()\n",
    "sentence = input(\"Cümlə daxil edin: \")\n",
    "\n",
    "words = sentence.split()\n",
    "corrected_words = []\n",
    "\n",
    "for word in words:\n",
    "    corrected_word = spell.correction(word)\n",
    "    if corrected_word is not None:\n",
    "        corrected_words.append(corrected_word)\n",
    "    else:\n",
    "        corrected_words.append(word)\n",
    "\n",
    "corrected_sentence = ' '.join(corrected_words)\n",
    "\n",
    "print(\"Original cümlə: \", sentence)\n",
    "print(\"Düzəldilmiş version cümlə: \", corrected_sentence)"
   ]
  },
  {
   "cell_type": "markdown",
   "id": "6116d36f",
   "metadata": {},
   "source": [
    "### Spellchecker (Text)"
   ]
  },
  {
   "cell_type": "code",
   "execution_count": 15,
   "id": "e8f01718",
   "metadata": {},
   "outputs": [
    {
     "name": "stdout",
     "output_type": "stream",
     "text": [
      "Mətn daxil edin: Ths is a smple exmaple of a text with a few mispelled wrds to show how typos cn accor. It's important to always rview your wrk before submitting, but sometimes it's easy to overlk smal mistakes. If you're not carefull, even the simplest erorrs can change the meaning of a sentnce. So, alwasy take a moment to chekc for these kinds of mstakes, especially when wrting important documnts or emals.\n",
      "\n",
      "\n",
      "Original mətn:  Ths is a smple exmaple of a text with a few mispelled wrds to show how typos cn accor. It's important to always rview your wrk before submitting, but sometimes it's easy to overlk smal mistakes. If you're not carefull, even the simplest erorrs can change the meaning of a sentnce. So, alwasy take a moment to chekc for these kinds of mstakes, especially when wrting important documnts or emals.\n",
      "\n",
      "\n",
      "Düzəldilmiş version text:  the is a simple example of a text with a few misspelled words to show how typos in accord It's important to always view your work before submitting but sometimes it's easy to overly small mistakes If you're not carefully even the simplest errors can change the meaning of a sentence so always take a moment to check for these kinds of mistakes especially when writing important documents or meals\n"
     ]
    }
   ],
   "source": [
    "from spellchecker import SpellChecker\n",
    "\n",
    "spell = SpellChecker()\n",
    "text = input(\"Mətn daxil edin: \")\n",
    "\n",
    "words = text.split()\n",
    "corrected_words = []\n",
    "\n",
    "for word in words:\n",
    "    corrected_word = spell.correction(word)\n",
    "    if corrected_word is not None:\n",
    "        corrected_words.append(corrected_word)\n",
    "    else:\n",
    "        corrected_words.append(word)\n",
    "\n",
    "corrected_text = ' '.join(corrected_words)\n",
    "\n",
    "print(\"\\n\\nOriginal mətn: \", text)\n",
    "print(\"\\n\\nDüzəldilmiş version text: \", corrected_text)"
   ]
  },
  {
   "cell_type": "markdown",
   "id": "ad55c7b7",
   "metadata": {},
   "source": [
    "Kod mətndə təqribən 70%-80% doğru nəticə əldə etdi. Performansı artırmaq üçün yeni kodlar tətbiq etməyə çalışacam."
   ]
  },
  {
   "cell_type": "code",
   "execution_count": 14,
   "id": "e958668f",
   "metadata": {
    "scrolled": true
   },
   "outputs": [
    {
     "name": "stdout",
     "output_type": "stream",
     "text": [
      "Mətn daxil edin: Ths is a smple exmaple of a text with a few mispelled wrds to show how typos cn accor. It's important to always rview your wrk before submitting, but sometimes it's easy to overlk smal mistakes. If you're not carefull, even the simplest erorrs can change the meaning of a sentnce. So, alwasy take a moment to chekc for these kinds of mstakes, especially when wrting important documnts or emals.\n",
      "\n",
      "\n",
      "Original mətn:  Ths is a smple exmaple of a text with a few mispelled wrds to show how typos cn accor. It's important to always rview your wrk before submitting, but sometimes it's easy to overlk smal mistakes. If you're not carefull, even the simplest erorrs can change the meaning of a sentnce. So, alwasy take a moment to chekc for these kinds of mstakes, especially when wrting important documnts or emals.\n",
      "\n",
      "\n",
      "Düzəldilmiş version text:  the is a simple example of a text with a few misspelled words to show how typos in accord It's important to always view your work before submitting but sometimes it's easy to overly small mistakes If you're not carefully even the simplest errors can change the meaning of a sentence so always take a moment to check for these kinds of mistakes especially when writing important documents or meals\n"
     ]
    }
   ],
   "source": [
    "from spellchecker import SpellChecker\n",
    "\n",
    "spell = SpellChecker(distance=2)\n",
    "text = input(\"Mətn daxil edin: \")\n",
    "\n",
    "words = text.split()\n",
    "corrected_words = []\n",
    "\n",
    "for word in words:\n",
    "    corrected_word = spell.correction(word)\n",
    "    if corrected_word is not None:\n",
    "        corrected_words.append(corrected_word)\n",
    "    else:\n",
    "        corrected_words.append(word)\n",
    "\n",
    "corrected_text = ' '.join(corrected_words)\n",
    "\n",
    "print(\"\\n\\nOriginal mətn: \", text)\n",
    "print(\"\\n\\nDüzəldilmiş version text: \", corrected_text)"
   ]
  },
  {
   "cell_type": "markdown",
   "id": "07b5b999",
   "metadata": {},
   "source": [
    "### Daha yüksək performanslı kod"
   ]
  },
  {
   "cell_type": "code",
   "execution_count": 32,
   "id": "60e506a2",
   "metadata": {},
   "outputs": [
    {
     "name": "stdout",
     "output_type": "stream",
     "text": [
      "Mətni daxil edin: Ths is a smple exmaple of a text with a few mispelled wrds to show how typos cn accor. It's important to always rview your wrk before submitting, but sometimes it's easy to overlk smal mistakes. If you're not carefull, even the simplest erorrs can change the meaning of a sentnce. So, alwasy take a moment to chekc for these kinds of mstakes, especially when wrting important documnts or emals.\n",
      "\n",
      "Düzəldilmiş mətn:\n",
      "the is a simple example of a text with a few misspelled words to show how typos in actor. It's important to always view your work before submitting but sometimes it's easy to overly small mistakes. If you're not carefully even the simplest errors can change the meaning of a sentence. so always take a moment to check for these kinds of mistakes especially when writing important documents or meals\n"
     ]
    }
   ],
   "source": [
    "from spellchecker import SpellChecker\n",
    "from concurrent.futures import ThreadPoolExecutor\n",
    "\n",
    "spell = SpellChecker()\n",
    "\n",
    "def correct_sentence(sentence):\n",
    "    return ' '.join([spell.correction(word) for word in sentence.split()])\n",
    "\n",
    "user_text = input(\"Mətni daxil edin: \")\n",
    "sentences = user_text.split(\". \")\n",
    "\n",
    "with ThreadPoolExecutor() as executor:\n",
    "    corrected_sentences = list(executor.map(correct_sentence, sentences))\n",
    "\n",
    "corrected_text = \". \".join(corrected_sentences)\n",
    "\n",
    "print(\"\\nDüzəldilmiş mətn:\")\n",
    "print(corrected_text)"
   ]
  }
 ],
 "metadata": {
  "kernelspec": {
   "display_name": "Python 3 (ipykernel)",
   "language": "python",
   "name": "python3"
  },
  "language_info": {
   "codemirror_mode": {
    "name": "ipython",
    "version": 3
   },
   "file_extension": ".py",
   "mimetype": "text/x-python",
   "name": "python",
   "nbconvert_exporter": "python",
   "pygments_lexer": "ipython3",
   "version": "3.12.3"
  }
 },
 "nbformat": 4,
 "nbformat_minor": 5
}
